{
 "cells": [
  {
   "cell_type": "code",
   "execution_count": 1,
   "id": "2c8e95d4",
   "metadata": {},
   "outputs": [],
   "source": [
    "%matplotlib inline\n",
    "import matplotlib.pyplot as plt\n",
    "import pandas as pd\n",
    "from sklearn.model_selection import train_test_split, RandomizedSearchCV\n",
    "from sklearn.compose import ColumnTransformer\n",
    "from sklearn.preprocessing import StandardScaler, OneHotEncoder\n",
    "from sklearn.impute import SimpleImputer\n",
    "from sklearn.pipeline import Pipeline\n",
    "from sklearn.svm import SVC\n",
    "from sklearn.ensemble import RandomForestClassifier, VotingClassifier, GradientBoostingClassifier\n",
    "import joblib\n",
    "from sklearn.metrics import accuracy_score\n",
    "import numpy as np"
   ]
  },
  {
   "cell_type": "code",
   "execution_count": 2,
   "id": "fb4bad3a",
   "metadata": {},
   "outputs": [],
   "source": [
    "train_file = 'train.csv'\n",
    "test_file = 'test.csv'"
   ]
  },
  {
   "cell_type": "code",
   "execution_count": 3,
   "id": "baf75c71",
   "metadata": {},
   "outputs": [],
   "source": [
    "df = pd.read_csv(train_file)"
   ]
  },
  {
   "cell_type": "markdown",
   "id": "18197d2a",
   "metadata": {},
   "source": [
    "# Explore"
   ]
  },
  {
   "cell_type": "code",
   "execution_count": 4,
   "id": "eec0a3df",
   "metadata": {},
   "outputs": [
    {
     "data": {
      "text/html": [
       "<div>\n",
       "<style scoped>\n",
       "    .dataframe tbody tr th:only-of-type {\n",
       "        vertical-align: middle;\n",
       "    }\n",
       "\n",
       "    .dataframe tbody tr th {\n",
       "        vertical-align: top;\n",
       "    }\n",
       "\n",
       "    .dataframe thead th {\n",
       "        text-align: right;\n",
       "    }\n",
       "</style>\n",
       "<table border=\"1\" class=\"dataframe\">\n",
       "  <thead>\n",
       "    <tr style=\"text-align: right;\">\n",
       "      <th></th>\n",
       "      <th>PassengerId</th>\n",
       "      <th>Survived</th>\n",
       "      <th>Pclass</th>\n",
       "      <th>Name</th>\n",
       "      <th>Sex</th>\n",
       "      <th>Age</th>\n",
       "      <th>SibSp</th>\n",
       "      <th>Parch</th>\n",
       "      <th>Ticket</th>\n",
       "      <th>Fare</th>\n",
       "      <th>Cabin</th>\n",
       "      <th>Embarked</th>\n",
       "    </tr>\n",
       "  </thead>\n",
       "  <tbody>\n",
       "    <tr>\n",
       "      <th>0</th>\n",
       "      <td>1</td>\n",
       "      <td>0</td>\n",
       "      <td>3</td>\n",
       "      <td>Braund, Mr. Owen Harris</td>\n",
       "      <td>male</td>\n",
       "      <td>22.0</td>\n",
       "      <td>1</td>\n",
       "      <td>0</td>\n",
       "      <td>A/5 21171</td>\n",
       "      <td>7.2500</td>\n",
       "      <td>NaN</td>\n",
       "      <td>S</td>\n",
       "    </tr>\n",
       "    <tr>\n",
       "      <th>1</th>\n",
       "      <td>2</td>\n",
       "      <td>1</td>\n",
       "      <td>1</td>\n",
       "      <td>Cumings, Mrs. John Bradley (Florence Briggs Th...</td>\n",
       "      <td>female</td>\n",
       "      <td>38.0</td>\n",
       "      <td>1</td>\n",
       "      <td>0</td>\n",
       "      <td>PC 17599</td>\n",
       "      <td>71.2833</td>\n",
       "      <td>C85</td>\n",
       "      <td>C</td>\n",
       "    </tr>\n",
       "    <tr>\n",
       "      <th>2</th>\n",
       "      <td>3</td>\n",
       "      <td>1</td>\n",
       "      <td>3</td>\n",
       "      <td>Heikkinen, Miss. Laina</td>\n",
       "      <td>female</td>\n",
       "      <td>26.0</td>\n",
       "      <td>0</td>\n",
       "      <td>0</td>\n",
       "      <td>STON/O2. 3101282</td>\n",
       "      <td>7.9250</td>\n",
       "      <td>NaN</td>\n",
       "      <td>S</td>\n",
       "    </tr>\n",
       "    <tr>\n",
       "      <th>3</th>\n",
       "      <td>4</td>\n",
       "      <td>1</td>\n",
       "      <td>1</td>\n",
       "      <td>Futrelle, Mrs. Jacques Heath (Lily May Peel)</td>\n",
       "      <td>female</td>\n",
       "      <td>35.0</td>\n",
       "      <td>1</td>\n",
       "      <td>0</td>\n",
       "      <td>113803</td>\n",
       "      <td>53.1000</td>\n",
       "      <td>C123</td>\n",
       "      <td>S</td>\n",
       "    </tr>\n",
       "    <tr>\n",
       "      <th>4</th>\n",
       "      <td>5</td>\n",
       "      <td>0</td>\n",
       "      <td>3</td>\n",
       "      <td>Allen, Mr. William Henry</td>\n",
       "      <td>male</td>\n",
       "      <td>35.0</td>\n",
       "      <td>0</td>\n",
       "      <td>0</td>\n",
       "      <td>373450</td>\n",
       "      <td>8.0500</td>\n",
       "      <td>NaN</td>\n",
       "      <td>S</td>\n",
       "    </tr>\n",
       "  </tbody>\n",
       "</table>\n",
       "</div>"
      ],
      "text/plain": [
       "   PassengerId  Survived  Pclass  \\\n",
       "0            1         0       3   \n",
       "1            2         1       1   \n",
       "2            3         1       3   \n",
       "3            4         1       1   \n",
       "4            5         0       3   \n",
       "\n",
       "                                                Name     Sex   Age  SibSp  \\\n",
       "0                            Braund, Mr. Owen Harris    male  22.0      1   \n",
       "1  Cumings, Mrs. John Bradley (Florence Briggs Th...  female  38.0      1   \n",
       "2                             Heikkinen, Miss. Laina  female  26.0      0   \n",
       "3       Futrelle, Mrs. Jacques Heath (Lily May Peel)  female  35.0      1   \n",
       "4                           Allen, Mr. William Henry    male  35.0      0   \n",
       "\n",
       "   Parch            Ticket     Fare Cabin Embarked  \n",
       "0      0         A/5 21171   7.2500   NaN        S  \n",
       "1      0          PC 17599  71.2833   C85        C  \n",
       "2      0  STON/O2. 3101282   7.9250   NaN        S  \n",
       "3      0            113803  53.1000  C123        S  \n",
       "4      0            373450   8.0500   NaN        S  "
      ]
     },
     "execution_count": 4,
     "metadata": {},
     "output_type": "execute_result"
    }
   ],
   "source": [
    "df.head()"
   ]
  },
  {
   "cell_type": "code",
   "execution_count": 5,
   "id": "03077679",
   "metadata": {
    "scrolled": false
   },
   "outputs": [
    {
     "data": {
      "text/plain": [
       "<bound method DataFrame.info of      PassengerId  Survived  Pclass  \\\n",
       "0              1         0       3   \n",
       "1              2         1       1   \n",
       "2              3         1       3   \n",
       "3              4         1       1   \n",
       "4              5         0       3   \n",
       "..           ...       ...     ...   \n",
       "886          887         0       2   \n",
       "887          888         1       1   \n",
       "888          889         0       3   \n",
       "889          890         1       1   \n",
       "890          891         0       3   \n",
       "\n",
       "                                                  Name     Sex   Age  SibSp  \\\n",
       "0                              Braund, Mr. Owen Harris    male  22.0      1   \n",
       "1    Cumings, Mrs. John Bradley (Florence Briggs Th...  female  38.0      1   \n",
       "2                               Heikkinen, Miss. Laina  female  26.0      0   \n",
       "3         Futrelle, Mrs. Jacques Heath (Lily May Peel)  female  35.0      1   \n",
       "4                             Allen, Mr. William Henry    male  35.0      0   \n",
       "..                                                 ...     ...   ...    ...   \n",
       "886                              Montvila, Rev. Juozas    male  27.0      0   \n",
       "887                       Graham, Miss. Margaret Edith  female  19.0      0   \n",
       "888           Johnston, Miss. Catherine Helen \"Carrie\"  female   NaN      1   \n",
       "889                              Behr, Mr. Karl Howell    male  26.0      0   \n",
       "890                                Dooley, Mr. Patrick    male  32.0      0   \n",
       "\n",
       "     Parch            Ticket     Fare Cabin Embarked  \n",
       "0        0         A/5 21171   7.2500   NaN        S  \n",
       "1        0          PC 17599  71.2833   C85        C  \n",
       "2        0  STON/O2. 3101282   7.9250   NaN        S  \n",
       "3        0            113803  53.1000  C123        S  \n",
       "4        0            373450   8.0500   NaN        S  \n",
       "..     ...               ...      ...   ...      ...  \n",
       "886      0            211536  13.0000   NaN        S  \n",
       "887      0            112053  30.0000   B42        S  \n",
       "888      2        W./C. 6607  23.4500   NaN        S  \n",
       "889      0            111369  30.0000  C148        C  \n",
       "890      0            370376   7.7500   NaN        Q  \n",
       "\n",
       "[891 rows x 12 columns]>"
      ]
     },
     "execution_count": 5,
     "metadata": {},
     "output_type": "execute_result"
    }
   ],
   "source": [
    "df.info"
   ]
  },
  {
   "cell_type": "markdown",
   "id": "777752a6",
   "metadata": {},
   "source": [
    "PassengerId, Name, Ticket useless"
   ]
  },
  {
   "cell_type": "code",
   "execution_count": 6,
   "id": "25f9d0fd",
   "metadata": {},
   "outputs": [
    {
     "data": {
      "text/plain": [
       "Index(['PassengerId', 'Survived', 'Pclass', 'Name', 'Sex', 'Age', 'SibSp',\n",
       "       'Parch', 'Ticket', 'Fare', 'Cabin', 'Embarked'],\n",
       "      dtype='object')"
      ]
     },
     "execution_count": 6,
     "metadata": {},
     "output_type": "execute_result"
    }
   ],
   "source": [
    "df.columns"
   ]
  },
  {
   "cell_type": "code",
   "execution_count": 7,
   "id": "af3b47c7",
   "metadata": {},
   "outputs": [
    {
     "name": "stdout",
     "output_type": "stream",
     "text": [
      "PassengerId 0\n",
      "Survived 0\n",
      "Pclass 0\n",
      "Name 0\n",
      "Sex 0\n",
      "Age 177\n",
      "SibSp 0\n",
      "Parch 0\n",
      "Ticket 0\n",
      "Fare 0\n",
      "Cabin 687\n",
      "Embarked 2\n"
     ]
    }
   ],
   "source": [
    "for col in df.columns:\n",
    "    nan_values = df[col].isna().sum()\n",
    "    print(col, nan_values)"
   ]
  },
  {
   "cell_type": "markdown",
   "id": "d928eb0a",
   "metadata": {},
   "source": [
    "Nan values of Age & Embarked to be filled"
   ]
  },
  {
   "cell_type": "code",
   "execution_count": 8,
   "id": "81f92367",
   "metadata": {},
   "outputs": [
    {
     "data": {
      "text/plain": [
       "B96 B98        4\n",
       "G6             4\n",
       "C23 C25 C27    4\n",
       "C22 C26        3\n",
       "F33            3\n",
       "              ..\n",
       "E34            1\n",
       "C7             1\n",
       "C54            1\n",
       "E36            1\n",
       "C148           1\n",
       "Name: Cabin, Length: 147, dtype: int64"
      ]
     },
     "execution_count": 8,
     "metadata": {},
     "output_type": "execute_result"
    }
   ],
   "source": [
    "df['Cabin'].value_counts()"
   ]
  },
  {
   "cell_type": "markdown",
   "id": "56c0bb29",
   "metadata": {},
   "source": [
    "Too many missing values of cabin; remove too"
   ]
  },
  {
   "cell_type": "code",
   "execution_count": 9,
   "id": "4c3bd365",
   "metadata": {},
   "outputs": [
    {
     "data": {
      "text/plain": [
       "0    549\n",
       "1    342\n",
       "Name: Survived, dtype: int64"
      ]
     },
     "execution_count": 9,
     "metadata": {},
     "output_type": "execute_result"
    }
   ],
   "source": [
    "df['Survived'].value_counts()"
   ]
  },
  {
   "cell_type": "markdown",
   "id": "c9865a5d",
   "metadata": {},
   "source": [
    "Balancing may be necessary"
   ]
  },
  {
   "cell_type": "code",
   "execution_count": 10,
   "id": "f3704ffa",
   "metadata": {
    "scrolled": false
   },
   "outputs": [
    {
     "data": {
      "text/plain": [
       "(array([337., 182., 147.,  50.,  16.,  39.,  18.,  29.,  18.,   2.,   8.,\n",
       "          7.,   0.,   7.,   9.,   0.,   2.,   0.,   0.,   0.,   4.,   1.,\n",
       "          4.,   0.,   2.,   6.,   0.,   0.,   0.,   0.,   0.,   0.,   0.,\n",
       "          0.,   0.,   0.,   0.,   0.,   0.,   0.,   0.,   0.,   0.,   0.,\n",
       "          0.,   0.,   0.,   0.,   0.,   3.]),\n",
       " array([  0.      ,  10.246584,  20.493168,  30.739752,  40.986336,\n",
       "         51.23292 ,  61.479504,  71.726088,  81.972672,  92.219256,\n",
       "        102.46584 , 112.712424, 122.959008, 133.205592, 143.452176,\n",
       "        153.69876 , 163.945344, 174.191928, 184.438512, 194.685096,\n",
       "        204.93168 , 215.178264, 225.424848, 235.671432, 245.918016,\n",
       "        256.1646  , 266.411184, 276.657768, 286.904352, 297.150936,\n",
       "        307.39752 , 317.644104, 327.890688, 338.137272, 348.383856,\n",
       "        358.63044 , 368.877024, 379.123608, 389.370192, 399.616776,\n",
       "        409.86336 , 420.109944, 430.356528, 440.603112, 450.849696,\n",
       "        461.09628 , 471.342864, 481.589448, 491.836032, 502.082616,\n",
       "        512.3292  ]),\n",
       " <BarContainer object of 50 artists>)"
      ]
     },
     "execution_count": 10,
     "metadata": {},
     "output_type": "execute_result"
    },
    {
     "data": {
      "image/png": "[encoded data removed]",
      "text/plain": [
       "<Figure size 432x288 with 1 Axes>"
      ]
     },
     "metadata": {
      "needs_background": "light"
     },
     "output_type": "display_data"
    }
   ],
   "source": [
    "plt.hist(df['Fare'], bins=50)"
   ]
  },
  {
   "cell_type": "markdown",
   "id": "20796323",
   "metadata": {},
   "source": [
    "Remove outlier or use Standardize instead of Normalize"
   ]
  },
  {
   "cell_type": "markdown",
   "id": "acdbe0e8",
   "metadata": {},
   "source": [
    "# Create Train and Test-Dataset"
   ]
  },
  {
   "cell_type": "code",
   "execution_count": 11,
   "id": "5e7b3706",
   "metadata": {},
   "outputs": [],
   "source": [
    "def create_datasets(data):\n",
    "    df = data.copy()\n",
    "    y = df.pop('Survived')\n",
    "    X = df.drop(['PassengerId', 'Name', 'Ticket'], axis=1)\n",
    "    X_train, X_test, y_train, y_test = train_test_split(X, y, test_size=0.3, random_state=42, shuffle=True)\n",
    "    return X_train, X_test, y_train, y_test"
   ]
  },
  {
   "cell_type": "code",
   "execution_count": 12,
   "id": "5301b85b",
   "metadata": {},
   "outputs": [],
   "source": [
    "X_train, X_test, y_train, y_test = create_datasets(df)"
   ]
  },
  {
   "cell_type": "markdown",
   "id": "b30a13aa",
   "metadata": {},
   "source": [
    "# Preprocess the data using a pipeline"
   ]
  },
  {
   "cell_type": "code",
   "execution_count": 13,
   "id": "f32a997e",
   "metadata": {},
   "outputs": [],
   "source": [
    "num_attribs = ['Pclass', 'Age', 'SibSp', 'Parch', 'Fare']\n",
    "cat_attribs = ['Sex', 'Embarked']"
   ]
  },
  {
   "cell_type": "code",
   "execution_count": 14,
   "id": "1be16d92",
   "metadata": {},
   "outputs": [],
   "source": [
    "num_pipeline = Pipeline([\n",
    "    ('Imputer_Median_Num', SimpleImputer(strategy='median')),\n",
    "    ('Standardize_Num', StandardScaler())\n",
    "])"
   ]
  },
  {
   "cell_type": "code",
   "execution_count": 15,
   "id": "1cbd5145",
   "metadata": {},
   "outputs": [],
   "source": [
    "cat_pipeline = Pipeline([\n",
    "    ('Imputer_Median_Cat', SimpleImputer(strategy='most_frequent')),\n",
    "    ('OneHot', OneHotEncoder(sparse=False))  # return array not sparse matrix\n",
    "])"
   ]
  },
  {
   "cell_type": "code",
   "execution_count": 16,
   "id": "b47c30f5",
   "metadata": {},
   "outputs": [],
   "source": [
    "num_cat_pipeline = ColumnTransformer([\n",
    "    ('num_pipeline', num_pipeline, num_attribs),\n",
    "    ('cat_pipeline', cat_pipeline, cat_attribs)\n",
    "])"
   ]
  },
  {
   "cell_type": "code",
   "execution_count": 17,
   "id": "11627fb6",
   "metadata": {},
   "outputs": [
    {
     "data": {
      "text/plain": [
       "pandas.core.frame.DataFrame"
      ]
     },
     "execution_count": 17,
     "metadata": {},
     "output_type": "execute_result"
    }
   ],
   "source": [
    "type(X_train)"
   ]
  },
  {
   "cell_type": "code",
   "execution_count": 18,
   "id": "63e08e98",
   "metadata": {},
   "outputs": [],
   "source": [
    "X_train = num_cat_pipeline.fit_transform(X_train)"
   ]
  },
  {
   "cell_type": "code",
   "execution_count": 19,
   "id": "bc88498a",
   "metadata": {},
   "outputs": [
    {
     "data": {
      "text/plain": [
       "(623, 10)"
      ]
     },
     "execution_count": 19,
     "metadata": {},
     "output_type": "execute_result"
    }
   ],
   "source": [
    "X_train.shape"
   ]
  },
  {
   "cell_type": "code",
   "execution_count": 20,
   "id": "0ac9ec07",
   "metadata": {},
   "outputs": [
    {
     "data": {
      "text/plain": [
       "(623,)"
      ]
     },
     "execution_count": 20,
     "metadata": {},
     "output_type": "execute_result"
    }
   ],
   "source": [
    "y_train.shape"
   ]
  },
  {
   "cell_type": "markdown",
   "id": "3736a61b",
   "metadata": {},
   "source": [
    "# Try different models and hyperparameters"
   ]
  },
  {
   "cell_type": "markdown",
   "id": "b7bc45a0",
   "metadata": {},
   "source": [
    "1) Support Vector Classifier"
   ]
  },
  {
   "cell_type": "code",
   "execution_count": 21,
   "id": "048d4c15",
   "metadata": {},
   "outputs": [],
   "source": [
    "svc = SVC()"
   ]
  },
  {
   "cell_type": "code",
   "execution_count": 22,
   "id": "45dfd3b1",
   "metadata": {},
   "outputs": [],
   "source": [
    "svc_params = {\n",
    "    'kernel': ['linear', 'poly', 'rbf'],\n",
    "    'degree': [1, 2, 3, 4],\n",
    "    'C': [0.1, 1.0, 10, 100, 1_000]\n",
    "}"
   ]
  },
  {
   "cell_type": "code",
   "execution_count": 23,
   "id": "30c78cf7",
   "metadata": {},
   "outputs": [],
   "source": [
    "svc_search = RandomizedSearchCV(svc, svc_params, cv=10, scoring='accuracy')"
   ]
  },
  {
   "cell_type": "code",
   "execution_count": 24,
   "id": "cf1a0b49",
   "metadata": {},
   "outputs": [
    {
     "data": {
      "text/plain": [
       "RandomizedSearchCV(cv=10, estimator=SVC(),\n",
       "                   param_distributions={'C': [0.1, 1.0, 10, 100, 1000],\n",
       "                                        'degree': [1, 2, 3, 4],\n",
       "                                        'kernel': ['linear', 'poly', 'rbf']},\n",
       "                   scoring='accuracy')"
      ]
     },
     "execution_count": 24,
     "metadata": {},
     "output_type": "execute_result"
    }
   ],
   "source": [
    "svc_search.fit(X_train, y_train)"
   ]
  },
  {
   "cell_type": "code",
   "execution_count": 25,
   "id": "17d98b94",
   "metadata": {},
   "outputs": [
    {
     "data": {
      "text/plain": [
       "{'kernel': 'rbf', 'degree': 2, 'C': 1.0}"
      ]
     },
     "execution_count": 25,
     "metadata": {},
     "output_type": "execute_result"
    }
   ],
   "source": [
    "svc_search.best_params_"
   ]
  },
  {
   "cell_type": "code",
   "execution_count": 26,
   "id": "ae8a0d6a",
   "metadata": {},
   "outputs": [
    {
     "data": {
      "text/plain": [
       "0.8185867895545315"
      ]
     },
     "execution_count": 26,
     "metadata": {},
     "output_type": "execute_result"
    }
   ],
   "source": [
    "svc_search.best_score_"
   ]
  },
  {
   "cell_type": "code",
   "execution_count": 27,
   "id": "0dab514f",
   "metadata": {},
   "outputs": [],
   "source": [
    "svc_params_2 = {\n",
    "    'kernel': ['rbf'],\n",
    "    'degree': [2],\n",
    "    'C': [5, 7, 9, 10, 15, 20, 30, 40, 50, 60, 80]\n",
    "}"
   ]
  },
  {
   "cell_type": "code",
   "execution_count": 28,
   "id": "36272233",
   "metadata": {},
   "outputs": [],
   "source": [
    "svc_2 = SVC()"
   ]
  },
  {
   "cell_type": "code",
   "execution_count": 29,
   "id": "7031b523",
   "metadata": {},
   "outputs": [],
   "source": [
    "svc_search_2 = RandomizedSearchCV(svc_2, svc_params_2, cv=10, scoring='accuracy')"
   ]
  },
  {
   "cell_type": "code",
   "execution_count": 30,
   "id": "538920ad",
   "metadata": {},
   "outputs": [
    {
     "data": {
      "text/plain": [
       "RandomizedSearchCV(cv=10, estimator=SVC(),\n",
       "                   param_distributions={'C': [5, 7, 9, 10, 15, 20, 30, 40, 50,\n",
       "                                              60, 80],\n",
       "                                        'degree': [2], 'kernel': ['rbf']},\n",
       "                   scoring='accuracy')"
      ]
     },
     "execution_count": 30,
     "metadata": {},
     "output_type": "execute_result"
    }
   ],
   "source": [
    "svc_search_2.fit(X_train, y_train)"
   ]
  },
  {
   "cell_type": "code",
   "execution_count": 31,
   "id": "052f0c3e",
   "metadata": {},
   "outputs": [
    {
     "data": {
      "text/plain": [
       "{'kernel': 'rbf', 'degree': 2, 'C': 5}"
      ]
     },
     "execution_count": 31,
     "metadata": {},
     "output_type": "execute_result"
    }
   ],
   "source": [
    "svc_search_2.best_params_"
   ]
  },
  {
   "cell_type": "code",
   "execution_count": 32,
   "id": "7db3e248",
   "metadata": {},
   "outputs": [
    {
     "data": {
      "text/plain": [
       "0.8233998975934458"
      ]
     },
     "execution_count": 32,
     "metadata": {},
     "output_type": "execute_result"
    }
   ],
   "source": [
    "svc_search_2.best_score_"
   ]
  },
  {
   "cell_type": "code",
   "execution_count": 33,
   "id": "2d17c81c",
   "metadata": {},
   "outputs": [],
   "source": [
    "svc_best = SVC(kernel='rbf', degree=2, C=3)"
   ]
  },
  {
   "cell_type": "markdown",
   "id": "cb451f5b",
   "metadata": {},
   "source": [
    "2) Random Forest Classifier"
   ]
  },
  {
   "cell_type": "code",
   "execution_count": 34,
   "id": "68610594",
   "metadata": {},
   "outputs": [],
   "source": [
    "rfc = RandomForestClassifier(random_state=42)"
   ]
  },
  {
   "cell_type": "code",
   "execution_count": 35,
   "id": "8ffe81db",
   "metadata": {},
   "outputs": [],
   "source": [
    "rfc_params = {\n",
    "    'bootstrap': [True, False],\n",
    "    'max_depth': [10, 20, 30, 40, 50, 60, 70, 80, 90, 100, None],\n",
    "    'max_features': ['auto', 'sqrt'],\n",
    "    'min_samples_leaf': [1, 2, 4],\n",
    "    'min_samples_split': [2, 5, 10],\n",
    "    'n_estimators': [200, 400, 600, 800, 1000, 1200, 1400, 1600, 1800, 2000]\n",
    "}"
   ]
  },
  {
   "cell_type": "code",
   "execution_count": 36,
   "id": "9b6ecf64",
   "metadata": {},
   "outputs": [],
   "source": [
    "rfc_search = RandomizedSearchCV(rfc, rfc_params, cv=10, scoring='accuracy')"
   ]
  },
  {
   "cell_type": "code",
   "execution_count": 37,
   "id": "aba2fa54",
   "metadata": {
    "scrolled": true
   },
   "outputs": [
    {
     "data": {
      "text/plain": [
       "RandomizedSearchCV(cv=10, estimator=RandomForestClassifier(random_state=42),\n",
       "                   param_distributions={'bootstrap': [True, False],\n",
       "                                        'max_depth': [10, 20, 30, 40, 50, 60,\n",
       "                                                      70, 80, 90, 100, None],\n",
       "                                        'max_features': ['auto', 'sqrt'],\n",
       "                                        'min_samples_leaf': [1, 2, 4],\n",
       "                                        'min_samples_split': [2, 5, 10],\n",
       "                                        'n_estimators': [200, 400, 600, 800,\n",
       "                                                         1000, 1200, 1400, 1600,\n",
       "                                                         1800, 2000]},\n",
       "                   scoring='accuracy')"
      ]
     },
     "execution_count": 37,
     "metadata": {},
     "output_type": "execute_result"
    }
   ],
   "source": [
    "rfc_search.fit(X_train, y_train)"
   ]
  },
  {
   "cell_type": "code",
   "execution_count": 38,
   "id": "d8cfac42",
   "metadata": {},
   "outputs": [
    {
     "data": {
      "text/plain": [
       "{'n_estimators': 800,\n",
       " 'min_samples_split': 10,\n",
       " 'min_samples_leaf': 2,\n",
       " 'max_features': 'auto',\n",
       " 'max_depth': 30,\n",
       " 'bootstrap': False}"
      ]
     },
     "execution_count": 38,
     "metadata": {},
     "output_type": "execute_result"
    }
   ],
   "source": [
    "rfc_search.best_params_"
   ]
  },
  {
   "cell_type": "code",
   "execution_count": 39,
   "id": "6845af15",
   "metadata": {},
   "outputs": [
    {
     "data": {
      "text/plain": [
       "0.831490015360983"
      ]
     },
     "execution_count": 39,
     "metadata": {},
     "output_type": "execute_result"
    }
   ],
   "source": [
    "rfc_search.best_score_"
   ]
  },
  {
   "cell_type": "code",
   "execution_count": 40,
   "id": "65932ec0",
   "metadata": {},
   "outputs": [],
   "source": [
    "rfc_params_2 = {\n",
    "    'bootstrap': [False],\n",
    "    'max_depth': [90],\n",
    "    'max_features': ['sqrt'],\n",
    "    'min_samples_leaf': [3, 4, 5, 7, 10, 20, 50],\n",
    "    'min_samples_split': [0.9, 2, 3],\n",
    "    'n_estimators': [700, 750, 800, 850, 900]\n",
    "}"
   ]
  },
  {
   "cell_type": "code",
   "execution_count": 41,
   "id": "a106ae32",
   "metadata": {},
   "outputs": [],
   "source": [
    "rfc_2 = RandomForestClassifier(random_state=42)"
   ]
  },
  {
   "cell_type": "code",
   "execution_count": 42,
   "id": "19950a07",
   "metadata": {},
   "outputs": [],
   "source": [
    "rfc_search_2 = RandomizedSearchCV(rfc_2, rfc_params_2, cv=10, scoring='accuracy')"
   ]
  },
  {
   "cell_type": "code",
   "execution_count": 43,
   "id": "d5e33b62",
   "metadata": {
    "scrolled": true
   },
   "outputs": [
    {
     "data": {
      "text/plain": [
       "RandomizedSearchCV(cv=10, estimator=RandomForestClassifier(random_state=42),\n",
       "                   param_distributions={'bootstrap': [False], 'max_depth': [90],\n",
       "                                        'max_features': ['sqrt'],\n",
       "                                        'min_samples_leaf': [3, 4, 5, 7, 10, 20,\n",
       "                                                             50],\n",
       "                                        'min_samples_split': [0.9, 2, 3],\n",
       "                                        'n_estimators': [700, 750, 800, 850,\n",
       "                                                         900]},\n",
       "                   scoring='accuracy')"
      ]
     },
     "execution_count": 43,
     "metadata": {},
     "output_type": "execute_result"
    }
   ],
   "source": [
    "rfc_search_2.fit(X_train, y_train)"
   ]
  },
  {
   "cell_type": "code",
   "execution_count": 44,
   "id": "4996fbb0",
   "metadata": {},
   "outputs": [
    {
     "data": {
      "text/plain": [
       "{'n_estimators': 900,\n",
       " 'min_samples_split': 3,\n",
       " 'min_samples_leaf': 3,\n",
       " 'max_features': 'sqrt',\n",
       " 'max_depth': 90,\n",
       " 'bootstrap': False}"
      ]
     },
     "execution_count": 44,
     "metadata": {},
     "output_type": "execute_result"
    }
   ],
   "source": [
    "rfc_search_2.best_params_"
   ]
  },
  {
   "cell_type": "code",
   "execution_count": 45,
   "id": "b73b5a78",
   "metadata": {},
   "outputs": [
    {
     "data": {
      "text/plain": [
       "0.8299283154121865"
      ]
     },
     "execution_count": 45,
     "metadata": {},
     "output_type": "execute_result"
    }
   ],
   "source": [
    "rfc_search_2.best_score_"
   ]
  },
  {
   "cell_type": "code",
   "execution_count": 46,
   "id": "e83a01e3",
   "metadata": {},
   "outputs": [],
   "source": [
    "rfc_best = RandomForestClassifier(bootstrap=False, n_estimators=850, min_samples_split=3, min_samples_leaf=3,\n",
    "                                  max_features='sqrt', max_depth=90)"
   ]
  },
  {
   "cell_type": "markdown",
   "id": "303c326b",
   "metadata": {},
   "source": [
    "3) Gradient Boosting Classifier"
   ]
  },
  {
   "cell_type": "code",
   "execution_count": 47,
   "id": "1398bc38",
   "metadata": {},
   "outputs": [],
   "source": [
    "gbc = GradientBoostingClassifier()"
   ]
  },
  {
   "cell_type": "code",
   "execution_count": 48,
   "id": "63624a45",
   "metadata": {},
   "outputs": [],
   "source": [
    "gbc_params = {\n",
    "    'n_estimators': [200, 600, 1000, 1400, 1800, 2500],\n",
    "    'min_samples_split': [2, 5, 10],\n",
    "    'min_samples_leaf': [1, 2, 4],\n",
    "    'max_features': ['auto', 'sqrt'],\n",
    "    'max_depth': [10, 50, 90, 150]\n",
    "}"
   ]
  },
  {
   "cell_type": "code",
   "execution_count": 49,
   "id": "301e5c84",
   "metadata": {},
   "outputs": [],
   "source": [
    "gbc_search = RandomizedSearchCV(gbc, gbc_params, cv=10, scoring='accuracy')"
   ]
  },
  {
   "cell_type": "code",
   "execution_count": 50,
   "id": "b64e4417",
   "metadata": {
    "scrolled": true
   },
   "outputs": [
    {
     "data": {
      "text/plain": [
       "RandomizedSearchCV(cv=10, estimator=GradientBoostingClassifier(),\n",
       "                   param_distributions={'max_depth': [10, 50, 90, 150],\n",
       "                                        'max_features': ['auto', 'sqrt'],\n",
       "                                        'min_samples_leaf': [1, 2, 4],\n",
       "                                        'min_samples_split': [2, 5, 10],\n",
       "                                        'n_estimators': [200, 600, 1000, 1400,\n",
       "                                                         1800, 2500]},\n",
       "                   scoring='accuracy')"
      ]
     },
     "execution_count": 50,
     "metadata": {},
     "output_type": "execute_result"
    }
   ],
   "source": [
    "gbc_search.fit(X_train, y_train)"
   ]
  },
  {
   "cell_type": "code",
   "execution_count": 51,
   "id": "7dade2b4",
   "metadata": {},
   "outputs": [
    {
     "data": {
      "text/plain": [
       "{'n_estimators': 1800,\n",
       " 'min_samples_split': 2,\n",
       " 'min_samples_leaf': 1,\n",
       " 'max_features': 'auto',\n",
       " 'max_depth': 10}"
      ]
     },
     "execution_count": 51,
     "metadata": {},
     "output_type": "execute_result"
    }
   ],
   "source": [
    "gbc_search.best_params_"
   ]
  },
  {
   "cell_type": "code",
   "execution_count": 52,
   "id": "fc1f0a19",
   "metadata": {},
   "outputs": [
    {
     "data": {
      "text/plain": [
       "0.7995135688684075"
      ]
     },
     "execution_count": 52,
     "metadata": {},
     "output_type": "execute_result"
    }
   ],
   "source": [
    "gbc_search.best_score_"
   ]
  },
  {
   "cell_type": "code",
   "execution_count": 53,
   "id": "22da8948",
   "metadata": {},
   "outputs": [],
   "source": [
    "gbc_2 = GradientBoostingClassifier()"
   ]
  },
  {
   "cell_type": "code",
   "execution_count": 54,
   "id": "4f7fb046",
   "metadata": {},
   "outputs": [],
   "source": [
    "gbc_params_2 = {\n",
    "    'n_estimators': [1600, 1700, 1800, 1900, 2000, 2100],\n",
    "    'min_samples_split': [0.9, 2, 3, 4],\n",
    "    'min_samples_leaf': [2, 3],\n",
    "    'max_features': ['auto'],\n",
    "    'max_depth': [2, 5, 10, 15, 20]\n",
    "}"
   ]
  },
  {
   "cell_type": "code",
   "execution_count": 55,
   "id": "a93165d3",
   "metadata": {},
   "outputs": [],
   "source": [
    "gbc_search_2 = RandomizedSearchCV(gbc_2, gbc_params_2, cv=10, scoring='accuracy')"
   ]
  },
  {
   "cell_type": "code",
   "execution_count": 56,
   "id": "e0f06322",
   "metadata": {
    "scrolled": true
   },
   "outputs": [
    {
     "data": {
      "text/plain": [
       "RandomizedSearchCV(cv=10, estimator=GradientBoostingClassifier(),\n",
       "                   param_distributions={'max_depth': [2, 5, 10, 15, 20],\n",
       "                                        'max_features': ['auto'],\n",
       "                                        'min_samples_leaf': [2, 3],\n",
       "                                        'min_samples_split': [0.9, 2, 3, 4],\n",
       "                                        'n_estimators': [1600, 1700, 1800, 1900,\n",
       "                                                         2000, 2100]},\n",
       "                   scoring='accuracy')"
      ]
     },
     "execution_count": 56,
     "metadata": {},
     "output_type": "execute_result"
    }
   ],
   "source": [
    "gbc_search_2.fit(X_train, y_train)"
   ]
  },
  {
   "cell_type": "code",
   "execution_count": 57,
   "id": "4e3b3e85",
   "metadata": {},
   "outputs": [
    {
     "data": {
      "text/plain": [
       "{'n_estimators': 1800,\n",
       " 'min_samples_split': 0.9,\n",
       " 'min_samples_leaf': 3,\n",
       " 'max_features': 'auto',\n",
       " 'max_depth': 10}"
      ]
     },
     "execution_count": 57,
     "metadata": {},
     "output_type": "execute_result"
    }
   ],
   "source": [
    "gbc_search_2.best_params_"
   ]
  },
  {
   "cell_type": "code",
   "execution_count": 58,
   "id": "63d466df",
   "metadata": {},
   "outputs": [
    {
     "data": {
      "text/plain": [
       "0.8217869943676395"
      ]
     },
     "execution_count": 58,
     "metadata": {},
     "output_type": "execute_result"
    }
   ],
   "source": [
    "gbc_search_2.best_score_"
   ]
  },
  {
   "cell_type": "code",
   "execution_count": 59,
   "id": "21de497a",
   "metadata": {},
   "outputs": [],
   "source": [
    "gbc_best = GradientBoostingClassifier(n_estimators=1600, min_samples_split=4, min_samples_leaf=2,\n",
    "                                      max_features='auto', max_depth=15)"
   ]
  },
  {
   "cell_type": "markdown",
   "id": "c57e5832",
   "metadata": {},
   "source": [
    "Building a pipeline with the models"
   ]
  },
  {
   "cell_type": "code",
   "execution_count": 60,
   "id": "7506ad66",
   "metadata": {},
   "outputs": [],
   "source": [
    "full_svc = Pipeline([\n",
    "    ('preprocess_pipeline', num_cat_pipeline),\n",
    "    ('SVC', svc_best)\n",
    "])"
   ]
  },
  {
   "cell_type": "code",
   "execution_count": 61,
   "id": "0b2f4103",
   "metadata": {},
   "outputs": [],
   "source": [
    "full_rfc = Pipeline([\n",
    "    ('preprocess_pipeline', num_cat_pipeline),\n",
    "    ('RFC', rfc_best)\n",
    "])"
   ]
  },
  {
   "cell_type": "code",
   "execution_count": 62,
   "id": "83632d7d",
   "metadata": {},
   "outputs": [],
   "source": [
    "full_gbc = Pipeline([\n",
    "    ('preprocess_pipeline', num_cat_pipeline),\n",
    "    ('GBC', gbc_best)\n",
    "])"
   ]
  },
  {
   "cell_type": "code",
   "execution_count": 63,
   "id": "c9868d3a",
   "metadata": {},
   "outputs": [],
   "source": [
    "#needs dataframe as input not numpy array\n",
    "X_train, X_test, y_train, y_test = create_datasets(df)"
   ]
  },
  {
   "cell_type": "code",
   "execution_count": 64,
   "id": "c60fddc3",
   "metadata": {},
   "outputs": [
    {
     "data": {
      "text/plain": [
       "Pipeline(steps=[('preprocess_pipeline',\n",
       "                 ColumnTransformer(transformers=[('num_pipeline',\n",
       "                                                  Pipeline(steps=[('Imputer_Median_Num',\n",
       "                                                                   SimpleImputer(strategy='median')),\n",
       "                                                                  ('Standardize_Num',\n",
       "                                                                   StandardScaler())]),\n",
       "                                                  ['Pclass', 'Age', 'SibSp',\n",
       "                                                   'Parch', 'Fare']),\n",
       "                                                 ('cat_pipeline',\n",
       "                                                  Pipeline(steps=[('Imputer_Median_Cat',\n",
       "                                                                   SimpleImputer(strategy='most_frequent')),\n",
       "                                                                  ('OneHot',\n",
       "                                                                   OneHotEncoder(sparse=False))]),\n",
       "                                                  ['Sex', 'Embarked'])])),\n",
       "                ('SVC', SVC(C=3, degree=2))])"
      ]
     },
     "execution_count": 64,
     "metadata": {},
     "output_type": "execute_result"
    }
   ],
   "source": [
    "full_svc.fit(X_train, y_train)"
   ]
  },
  {
   "cell_type": "code",
   "execution_count": 65,
   "id": "800b56ef",
   "metadata": {},
   "outputs": [
    {
     "data": {
      "text/plain": [
       "Pipeline(steps=[('preprocess_pipeline',\n",
       "                 ColumnTransformer(transformers=[('num_pipeline',\n",
       "                                                  Pipeline(steps=[('Imputer_Median_Num',\n",
       "                                                                   SimpleImputer(strategy='median')),\n",
       "                                                                  ('Standardize_Num',\n",
       "                                                                   StandardScaler())]),\n",
       "                                                  ['Pclass', 'Age', 'SibSp',\n",
       "                                                   'Parch', 'Fare']),\n",
       "                                                 ('cat_pipeline',\n",
       "                                                  Pipeline(steps=[('Imputer_Median_Cat',\n",
       "                                                                   SimpleImputer(strategy='most_frequent')),\n",
       "                                                                  ('OneHot',\n",
       "                                                                   OneHotEncoder(sparse=False))]),\n",
       "                                                  ['Sex', 'Embarked'])])),\n",
       "                ('RFC',\n",
       "                 RandomForestClassifier(bootstrap=False, max_depth=90,\n",
       "                                        max_features='sqrt', min_samples_leaf=3,\n",
       "                                        min_samples_split=3,\n",
       "                                        n_estimators=850))])"
      ]
     },
     "execution_count": 65,
     "metadata": {},
     "output_type": "execute_result"
    }
   ],
   "source": [
    "full_rfc.fit(X_train, y_train)"
   ]
  },
  {
   "cell_type": "code",
   "execution_count": 66,
   "id": "23cffb68",
   "metadata": {},
   "outputs": [
    {
     "data": {
      "text/plain": [
       "Pipeline(steps=[('preprocess_pipeline',\n",
       "                 ColumnTransformer(transformers=[('num_pipeline',\n",
       "                                                  Pipeline(steps=[('Imputer_Median_Num',\n",
       "                                                                   SimpleImputer(strategy='median')),\n",
       "                                                                  ('Standardize_Num',\n",
       "                                                                   StandardScaler())]),\n",
       "                                                  ['Pclass', 'Age', 'SibSp',\n",
       "                                                   'Parch', 'Fare']),\n",
       "                                                 ('cat_pipeline',\n",
       "                                                  Pipeline(steps=[('Imputer_Median_Cat',\n",
       "                                                                   SimpleImputer(strategy='most_frequent')),\n",
       "                                                                  ('OneHot',\n",
       "                                                                   OneHotEncoder(sparse=False))]),\n",
       "                                                  ['Sex', 'Embarked'])])),\n",
       "                ('GBC',\n",
       "                 GradientBoostingClassifier(max_depth=15, max_features='auto',\n",
       "                                            min_samples_leaf=2,\n",
       "                                            min_samples_split=4,\n",
       "                                            n_estimators=1600))])"
      ]
     },
     "execution_count": 66,
     "metadata": {},
     "output_type": "execute_result"
    }
   ],
   "source": [
    "full_gbc.fit(X_train, y_train)"
   ]
  },
  {
   "cell_type": "code",
   "execution_count": 67,
   "id": "25eda6eb",
   "metadata": {},
   "outputs": [],
   "source": [
    "ensemble_svc_rfc = VotingClassifier(\n",
    "    estimators=[('svc', full_svc), ('rfc', full_rfc)] )"
   ]
  },
  {
   "cell_type": "code",
   "execution_count": 68,
   "id": "7f9939e6",
   "metadata": {},
   "outputs": [
    {
     "data": {
      "text/plain": [
       "VotingClassifier(estimators=[('svc',\n",
       "                              Pipeline(steps=[('preprocess_pipeline',\n",
       "                                               ColumnTransformer(transformers=[('num_pipeline',\n",
       "                                                                                Pipeline(steps=[('Imputer_Median_Num',\n",
       "                                                                                                 SimpleImputer(strategy='median')),\n",
       "                                                                                                ('Standardize_Num',\n",
       "                                                                                                 StandardScaler())]),\n",
       "                                                                                ['Pclass',\n",
       "                                                                                 'Age',\n",
       "                                                                                 'SibSp',\n",
       "                                                                                 'Parch',\n",
       "                                                                                 'Fare']),\n",
       "                                                                               ('cat_pipeline',\n",
       "                                                                                Pipeline(steps=[('Imputer_Median_Cat',\n",
       "                                                                                                 SimpleImputer(strateg...\n",
       "                                                                                                 StandardScaler())]),\n",
       "                                                                                ['Pclass',\n",
       "                                                                                 'Age',\n",
       "                                                                                 'SibSp',\n",
       "                                                                                 'Parch',\n",
       "                                                                                 'Fare']),\n",
       "                                                                               ('cat_pipeline',\n",
       "                                                                                Pipeline(steps=[('Imputer_Median_Cat',\n",
       "                                                                                                 SimpleImputer(strategy='most_frequent')),\n",
       "                                                                                                ('OneHot',\n",
       "                                                                                                 OneHotEncoder(sparse=False))]),\n",
       "                                                                                ['Sex',\n",
       "                                                                                 'Embarked'])])),\n",
       "                                              ('RFC',\n",
       "                                               RandomForestClassifier(bootstrap=False,\n",
       "                                                                      max_depth=90,\n",
       "                                                                      max_features='sqrt',\n",
       "                                                                      min_samples_leaf=3,\n",
       "                                                                      min_samples_split=3,\n",
       "                                                                      n_estimators=850))]))])"
      ]
     },
     "execution_count": 68,
     "metadata": {},
     "output_type": "execute_result"
    }
   ],
   "source": [
    "ensemble_svc_rfc.fit(X_train, y_train)"
   ]
  },
  {
   "cell_type": "code",
   "execution_count": 69,
   "id": "1cce153c",
   "metadata": {},
   "outputs": [],
   "source": [
    "ensemble_svc_rfc_gbc = VotingClassifier(\n",
    "    estimators=[('svc', full_svc), ('rfc', full_rfc), ('gbc', full_gbc)],\n",
    "    weights=[2, 2, 1])  # gbc performs worse"
   ]
  },
  {
   "cell_type": "code",
   "execution_count": 70,
   "id": "82e29b09",
   "metadata": {},
   "outputs": [
    {
     "data": {
      "text/plain": [
       "VotingClassifier(estimators=[('svc',\n",
       "                              Pipeline(steps=[('preprocess_pipeline',\n",
       "                                               ColumnTransformer(transformers=[('num_pipeline',\n",
       "                                                                                Pipeline(steps=[('Imputer_Median_Num',\n",
       "                                                                                                 SimpleImputer(strategy='median')),\n",
       "                                                                                                ('Standardize_Num',\n",
       "                                                                                                 StandardScaler())]),\n",
       "                                                                                ['Pclass',\n",
       "                                                                                 'Age',\n",
       "                                                                                 'SibSp',\n",
       "                                                                                 'Parch',\n",
       "                                                                                 'Fare']),\n",
       "                                                                               ('cat_pipeline',\n",
       "                                                                                Pipeline(steps=[('Imputer_Median_Cat',\n",
       "                                                                                                 SimpleImputer(strateg...\n",
       "                                                                                                 StandardScaler())]),\n",
       "                                                                                ['Pclass',\n",
       "                                                                                 'Age',\n",
       "                                                                                 'SibSp',\n",
       "                                                                                 'Parch',\n",
       "                                                                                 'Fare']),\n",
       "                                                                               ('cat_pipeline',\n",
       "                                                                                Pipeline(steps=[('Imputer_Median_Cat',\n",
       "                                                                                                 SimpleImputer(strategy='most_frequent')),\n",
       "                                                                                                ('OneHot',\n",
       "                                                                                                 OneHotEncoder(sparse=False))]),\n",
       "                                                                                ['Sex',\n",
       "                                                                                 'Embarked'])])),\n",
       "                                              ('GBC',\n",
       "                                               GradientBoostingClassifier(max_depth=15,\n",
       "                                                                          max_features='auto',\n",
       "                                                                          min_samples_leaf=2,\n",
       "                                                                          min_samples_split=4,\n",
       "                                                                          n_estimators=1600))]))],\n",
       "                 weights=[2, 2, 1])"
      ]
     },
     "execution_count": 70,
     "metadata": {},
     "output_type": "execute_result"
    }
   ],
   "source": [
    "ensemble_svc_rfc_gbc.fit(X_train, y_train)"
   ]
  },
  {
   "cell_type": "markdown",
   "id": "a6a21fb1",
   "metadata": {},
   "source": [
    "# Evaluation"
   ]
  },
  {
   "cell_type": "code",
   "execution_count": 71,
   "id": "a53e5e50",
   "metadata": {},
   "outputs": [],
   "source": [
    "y_test_array = np.array(y_test)"
   ]
  },
  {
   "cell_type": "code",
   "execution_count": 72,
   "id": "f7bb427c",
   "metadata": {},
   "outputs": [
    {
     "data": {
      "text/plain": [
       "0.8171641791044776"
      ]
     },
     "execution_count": 72,
     "metadata": {},
     "output_type": "execute_result"
    }
   ],
   "source": [
    "full_svc_score = accuracy_score(y_test_array, full_svc.predict(X_test))\n",
    "full_svc_score"
   ]
  },
  {
   "cell_type": "code",
   "execution_count": 73,
   "id": "72443c18",
   "metadata": {},
   "outputs": [
    {
     "data": {
      "text/plain": [
       "0.8059701492537313"
      ]
     },
     "execution_count": 73,
     "metadata": {},
     "output_type": "execute_result"
    }
   ],
   "source": [
    "full_rfc_score = accuracy_score(y_test_array, full_rfc.predict(X_test))\n",
    "full_rfc_score"
   ]
  },
  {
   "cell_type": "code",
   "execution_count": 74,
   "id": "bc70eb91",
   "metadata": {},
   "outputs": [
    {
     "data": {
      "text/plain": [
       "0.7835820895522388"
      ]
     },
     "execution_count": 74,
     "metadata": {},
     "output_type": "execute_result"
    }
   ],
   "source": [
    "full_gbc_score = accuracy_score(y_test_array, full_gbc.predict(X_test))\n",
    "full_gbc_score"
   ]
  },
  {
   "cell_type": "code",
   "execution_count": 75,
   "id": "fd985544",
   "metadata": {},
   "outputs": [
    {
     "data": {
      "text/plain": [
       "0.8097014925373134"
      ]
     },
     "execution_count": 75,
     "metadata": {},
     "output_type": "execute_result"
    }
   ],
   "source": [
    "ensemble_svc_rfc_score = accuracy_score(y_test_array, ensemble_svc_rfc.predict(X_test))\n",
    "ensemble_svc_rfc_score"
   ]
  },
  {
   "cell_type": "code",
   "execution_count": 76,
   "id": "e7995e96",
   "metadata": {},
   "outputs": [
    {
     "data": {
      "text/plain": [
       "0.832089552238806"
      ]
     },
     "execution_count": 76,
     "metadata": {},
     "output_type": "execute_result"
    }
   ],
   "source": [
    "ensemble_svc_rfc_gbc = accuracy_score(y_test_array, ensemble_svc_rfc_gbc.predict(X_test))\n",
    "ensemble_svc_rfc_gbc"
   ]
  },
  {
   "cell_type": "markdown",
   "id": "057737aa",
   "metadata": {},
   "source": [
    "Surprisingly the last ensemble with all 3 models performs by far the best"
   ]
  },
  {
   "cell_type": "markdown",
   "id": "e69d80e2",
   "metadata": {},
   "source": [
    "# Fit with full data, save model and make prediction on testfile"
   ]
  },
  {
   "cell_type": "code",
   "execution_count": 77,
   "id": "cf528bef",
   "metadata": {},
   "outputs": [],
   "source": [
    "final_model = VotingClassifier(\n",
    "    estimators=[('svc', full_svc), ('rfc', full_rfc), ('gbc', full_gbc)],\n",
    "    weights=[2, 2, 1])"
   ]
  },
  {
   "cell_type": "code",
   "execution_count": 78,
   "id": "226d5d2b",
   "metadata": {},
   "outputs": [],
   "source": [
    "def create_final_data(data):\n",
    "    df = data.copy()\n",
    "    y = df.pop('Survived')\n",
    "    X = df.drop(['PassengerId', 'Name', 'Ticket'], axis=1)\n",
    "    return X, y"
   ]
  },
  {
   "cell_type": "code",
   "execution_count": 79,
   "id": "8ce9f377",
   "metadata": {},
   "outputs": [],
   "source": [
    "X, y = create_final_data(data=df)"
   ]
  },
  {
   "cell_type": "code",
   "execution_count": 80,
   "id": "3db87e0d",
   "metadata": {},
   "outputs": [
    {
     "data": {
      "text/plain": [
       "VotingClassifier(estimators=[('svc',\n",
       "                              Pipeline(steps=[('preprocess_pipeline',\n",
       "                                               ColumnTransformer(transformers=[('num_pipeline',\n",
       "                                                                                Pipeline(steps=[('Imputer_Median_Num',\n",
       "                                                                                                 SimpleImputer(strategy='median')),\n",
       "                                                                                                ('Standardize_Num',\n",
       "                                                                                                 StandardScaler())]),\n",
       "                                                                                ['Pclass',\n",
       "                                                                                 'Age',\n",
       "                                                                                 'SibSp',\n",
       "                                                                                 'Parch',\n",
       "                                                                                 'Fare']),\n",
       "                                                                               ('cat_pipeline',\n",
       "                                                                                Pipeline(steps=[('Imputer_Median_Cat',\n",
       "                                                                                                 SimpleImputer(strateg...\n",
       "                                                                                                 StandardScaler())]),\n",
       "                                                                                ['Pclass',\n",
       "                                                                                 'Age',\n",
       "                                                                                 'SibSp',\n",
       "                                                                                 'Parch',\n",
       "                                                                                 'Fare']),\n",
       "                                                                               ('cat_pipeline',\n",
       "                                                                                Pipeline(steps=[('Imputer_Median_Cat',\n",
       "                                                                                                 SimpleImputer(strategy='most_frequent')),\n",
       "                                                                                                ('OneHot',\n",
       "                                                                                                 OneHotEncoder(sparse=False))]),\n",
       "                                                                                ['Sex',\n",
       "                                                                                 'Embarked'])])),\n",
       "                                              ('GBC',\n",
       "                                               GradientBoostingClassifier(max_depth=15,\n",
       "                                                                          max_features='auto',\n",
       "                                                                          min_samples_leaf=2,\n",
       "                                                                          min_samples_split=4,\n",
       "                                                                          n_estimators=1600))]))],\n",
       "                 weights=[2, 2, 1])"
      ]
     },
     "execution_count": 80,
     "metadata": {},
     "output_type": "execute_result"
    }
   ],
   "source": [
    "final_model.fit(X, y)"
   ]
  },
  {
   "cell_type": "code",
   "execution_count": 81,
   "id": "564d73c1",
   "metadata": {},
   "outputs": [
    {
     "data": {
      "text/plain": [
       "['Ensemble_SVC_RFC_GBC.joblib']"
      ]
     },
     "execution_count": 81,
     "metadata": {},
     "output_type": "execute_result"
    }
   ],
   "source": [
    "joblib.dump(final_model, 'Ensemble_SVC_RFC_GBC.joblib')"
   ]
  },
  {
   "cell_type": "code",
   "execution_count": 82,
   "id": "96bae4d6",
   "metadata": {},
   "outputs": [],
   "source": [
    "test_df = pd.read_csv(test_file)"
   ]
  },
  {
   "cell_type": "code",
   "execution_count": 83,
   "id": "74f304a5",
   "metadata": {},
   "outputs": [
    {
     "data": {
      "text/html": [
       "<div>\n",
       "<style scoped>\n",
       "    .dataframe tbody tr th:only-of-type {\n",
       "        vertical-align: middle;\n",
       "    }\n",
       "\n",
       "    .dataframe tbody tr th {\n",
       "        vertical-align: top;\n",
       "    }\n",
       "\n",
       "    .dataframe thead th {\n",
       "        text-align: right;\n",
       "    }\n",
       "</style>\n",
       "<table border=\"1\" class=\"dataframe\">\n",
       "  <thead>\n",
       "    <tr style=\"text-align: right;\">\n",
       "      <th></th>\n",
       "      <th>PassengerId</th>\n",
       "      <th>Pclass</th>\n",
       "      <th>Name</th>\n",
       "      <th>Sex</th>\n",
       "      <th>Age</th>\n",
       "      <th>SibSp</th>\n",
       "      <th>Parch</th>\n",
       "      <th>Ticket</th>\n",
       "      <th>Fare</th>\n",
       "      <th>Cabin</th>\n",
       "      <th>Embarked</th>\n",
       "    </tr>\n",
       "  </thead>\n",
       "  <tbody>\n",
       "    <tr>\n",
       "      <th>0</th>\n",
       "      <td>892</td>\n",
       "      <td>3</td>\n",
       "      <td>Kelly, Mr. James</td>\n",
       "      <td>male</td>\n",
       "      <td>34.5</td>\n",
       "      <td>0</td>\n",
       "      <td>0</td>\n",
       "      <td>330911</td>\n",
       "      <td>7.8292</td>\n",
       "      <td>NaN</td>\n",
       "      <td>Q</td>\n",
       "    </tr>\n",
       "    <tr>\n",
       "      <th>1</th>\n",
       "      <td>893</td>\n",
       "      <td>3</td>\n",
       "      <td>Wilkes, Mrs. James (Ellen Needs)</td>\n",
       "      <td>female</td>\n",
       "      <td>47.0</td>\n",
       "      <td>1</td>\n",
       "      <td>0</td>\n",
       "      <td>363272</td>\n",
       "      <td>7.0000</td>\n",
       "      <td>NaN</td>\n",
       "      <td>S</td>\n",
       "    </tr>\n",
       "    <tr>\n",
       "      <th>2</th>\n",
       "      <td>894</td>\n",
       "      <td>2</td>\n",
       "      <td>Myles, Mr. Thomas Francis</td>\n",
       "      <td>male</td>\n",
       "      <td>62.0</td>\n",
       "      <td>0</td>\n",
       "      <td>0</td>\n",
       "      <td>240276</td>\n",
       "      <td>9.6875</td>\n",
       "      <td>NaN</td>\n",
       "      <td>Q</td>\n",
       "    </tr>\n",
       "    <tr>\n",
       "      <th>3</th>\n",
       "      <td>895</td>\n",
       "      <td>3</td>\n",
       "      <td>Wirz, Mr. Albert</td>\n",
       "      <td>male</td>\n",
       "      <td>27.0</td>\n",
       "      <td>0</td>\n",
       "      <td>0</td>\n",
       "      <td>315154</td>\n",
       "      <td>8.6625</td>\n",
       "      <td>NaN</td>\n",
       "      <td>S</td>\n",
       "    </tr>\n",
       "    <tr>\n",
       "      <th>4</th>\n",
       "      <td>896</td>\n",
       "      <td>3</td>\n",
       "      <td>Hirvonen, Mrs. Alexander (Helga E Lindqvist)</td>\n",
       "      <td>female</td>\n",
       "      <td>22.0</td>\n",
       "      <td>1</td>\n",
       "      <td>1</td>\n",
       "      <td>3101298</td>\n",
       "      <td>12.2875</td>\n",
       "      <td>NaN</td>\n",
       "      <td>S</td>\n",
       "    </tr>\n",
       "  </tbody>\n",
       "</table>\n",
       "</div>"
      ],
      "text/plain": [
       "   PassengerId  Pclass                                          Name     Sex  \\\n",
       "0          892       3                              Kelly, Mr. James    male   \n",
       "1          893       3              Wilkes, Mrs. James (Ellen Needs)  female   \n",
       "2          894       2                     Myles, Mr. Thomas Francis    male   \n",
       "3          895       3                              Wirz, Mr. Albert    male   \n",
       "4          896       3  Hirvonen, Mrs. Alexander (Helga E Lindqvist)  female   \n",
       "\n",
       "    Age  SibSp  Parch   Ticket     Fare Cabin Embarked  \n",
       "0  34.5      0      0   330911   7.8292   NaN        Q  \n",
       "1  47.0      1      0   363272   7.0000   NaN        S  \n",
       "2  62.0      0      0   240276   9.6875   NaN        Q  \n",
       "3  27.0      0      0   315154   8.6625   NaN        S  \n",
       "4  22.0      1      1  3101298  12.2875   NaN        S  "
      ]
     },
     "execution_count": 83,
     "metadata": {},
     "output_type": "execute_result"
    }
   ],
   "source": [
    "test_df.head()"
   ]
  },
  {
   "cell_type": "code",
   "execution_count": 84,
   "id": "6c1e9435",
   "metadata": {},
   "outputs": [],
   "source": [
    "PassengerId = test_df.pop('PassengerId')  # needed for submission"
   ]
  },
  {
   "cell_type": "code",
   "execution_count": 85,
   "id": "9547755e",
   "metadata": {},
   "outputs": [],
   "source": [
    "test_df.drop(['Name', 'Ticket'], axis=1, inplace=True)"
   ]
  },
  {
   "cell_type": "code",
   "execution_count": 86,
   "id": "c97286af",
   "metadata": {},
   "outputs": [
    {
     "data": {
      "text/html": [
       "<div>\n",
       "<style scoped>\n",
       "    .dataframe tbody tr th:only-of-type {\n",
       "        vertical-align: middle;\n",
       "    }\n",
       "\n",
       "    .dataframe tbody tr th {\n",
       "        vertical-align: top;\n",
       "    }\n",
       "\n",
       "    .dataframe thead th {\n",
       "        text-align: right;\n",
       "    }\n",
       "</style>\n",
       "<table border=\"1\" class=\"dataframe\">\n",
       "  <thead>\n",
       "    <tr style=\"text-align: right;\">\n",
       "      <th></th>\n",
       "      <th>Pclass</th>\n",
       "      <th>Sex</th>\n",
       "      <th>Age</th>\n",
       "      <th>SibSp</th>\n",
       "      <th>Parch</th>\n",
       "      <th>Fare</th>\n",
       "      <th>Cabin</th>\n",
       "      <th>Embarked</th>\n",
       "    </tr>\n",
       "  </thead>\n",
       "  <tbody>\n",
       "    <tr>\n",
       "      <th>0</th>\n",
       "      <td>3</td>\n",
       "      <td>male</td>\n",
       "      <td>34.5</td>\n",
       "      <td>0</td>\n",
       "      <td>0</td>\n",
       "      <td>7.8292</td>\n",
       "      <td>NaN</td>\n",
       "      <td>Q</td>\n",
       "    </tr>\n",
       "  </tbody>\n",
       "</table>\n",
       "</div>"
      ],
      "text/plain": [
       "   Pclass   Sex   Age  SibSp  Parch    Fare Cabin Embarked\n",
       "0       3  male  34.5      0      0  7.8292   NaN        Q"
      ]
     },
     "execution_count": 86,
     "metadata": {},
     "output_type": "execute_result"
    }
   ],
   "source": [
    "test_df.head(1)"
   ]
  },
  {
   "cell_type": "code",
   "execution_count": 87,
   "id": "e509877e",
   "metadata": {},
   "outputs": [],
   "source": [
    "prediction_test = final_model.predict(test_df)"
   ]
  },
  {
   "cell_type": "code",
   "execution_count": 88,
   "id": "af113363",
   "metadata": {},
   "outputs": [
    {
     "data": {
      "text/plain": [
       "array([0, 0, 0, 0, 1, 0, 0, 0, 1, 0, 0, 0, 1, 0, 1, 1, 0, 0, 0, 0, 1, 1,\n",
       "       1, 0, 1, 0, 1, 0, 1, 0, 0, 0, 1, 0, 1, 0, 0, 0, 0, 0, 0, 1, 0, 1,\n",
       "       1, 0, 0, 0, 1, 1, 0, 0, 1, 1, 0, 0, 0, 0, 0, 1, 0, 0, 0, 1, 1, 1,\n",
       "       1, 0, 0, 1, 1, 0, 0, 0, 1, 0, 0, 1, 0, 1, 1, 0, 0, 0, 0, 0, 1, 0,\n",
       "       1, 1, 0, 0, 1, 0, 0, 0, 1, 0, 0, 0, 1, 0, 0, 0, 1, 0, 0, 0, 0, 0,\n",
       "       0, 1, 1, 1, 1, 0, 0, 1, 0, 1, 1, 0, 1, 0, 0, 1, 0, 1, 0, 0, 0, 0,\n",
       "       0, 0, 0, 0, 0, 0, 0, 0, 0, 1, 0, 0, 1, 0, 0, 0, 1, 0, 1, 0, 0, 1,\n",
       "       0, 0, 1, 0, 1, 1, 1, 1, 1, 0, 0, 0, 0, 0, 1, 0, 0, 0, 0, 0, 0, 1,\n",
       "       1, 0, 1, 1, 0, 0, 1, 0, 1, 0, 1, 0, 0, 0, 0, 0, 0, 0, 1, 0, 1, 0,\n",
       "       0, 0, 1, 1, 0, 1, 0, 0, 1, 0, 1, 0, 0, 0, 0, 1, 0, 0, 1, 0, 1, 0,\n",
       "       1, 0, 1, 0, 1, 0, 0, 1, 0, 0, 0, 1, 0, 0, 1, 0, 0, 0, 1, 1, 1, 1,\n",
       "       0, 0, 0, 0, 1, 0, 1, 0, 1, 0, 0, 0, 0, 0, 0, 0, 1, 0, 0, 0, 1, 1,\n",
       "       0, 0, 0, 0, 0, 0, 0, 0, 1, 1, 0, 1, 0, 0, 0, 0, 0, 1, 1, 0, 1, 0,\n",
       "       0, 0, 0, 0, 0, 0, 0, 0, 0, 0, 1, 0, 0, 0, 0, 0, 0, 0, 1, 1, 1, 1,\n",
       "       0, 0, 0, 0, 0, 0, 1, 1, 0, 0, 0, 0, 0, 0, 0, 1, 1, 0, 1, 0, 0, 0,\n",
       "       1, 0, 0, 1, 0, 0, 0, 0, 0, 0, 0, 0, 0, 1, 0, 1, 0, 1, 0, 1, 1, 0,\n",
       "       0, 0, 1, 0, 1, 0, 0, 1, 0, 1, 1, 0, 1, 0, 0, 0, 1, 0, 0, 1, 0, 0,\n",
       "       1, 1, 0, 0, 0, 0, 0, 0, 0, 0, 0, 1, 0, 0, 0, 0, 0, 1, 0, 0, 0, 1,\n",
       "       0, 1, 0, 0, 1, 0, 1, 0, 0, 0, 0, 0, 1, 1, 1, 1, 0, 0, 1, 0, 0, 1])"
      ]
     },
     "execution_count": 88,
     "metadata": {},
     "output_type": "execute_result"
    }
   ],
   "source": [
    "prediction_test"
   ]
  },
  {
   "cell_type": "code",
   "execution_count": 89,
   "id": "9338d489",
   "metadata": {},
   "outputs": [],
   "source": [
    "prediction = pd.DataFrame(prediction_test, columns=['Survived'])"
   ]
  },
  {
   "cell_type": "code",
   "execution_count": 90,
   "id": "9889295d",
   "metadata": {},
   "outputs": [
    {
     "data": {
      "text/html": [
       "<div>\n",
       "<style scoped>\n",
       "    .dataframe tbody tr th:only-of-type {\n",
       "        vertical-align: middle;\n",
       "    }\n",
       "\n",
       "    .dataframe tbody tr th {\n",
       "        vertical-align: top;\n",
       "    }\n",
       "\n",
       "    .dataframe thead th {\n",
       "        text-align: right;\n",
       "    }\n",
       "</style>\n",
       "<table border=\"1\" class=\"dataframe\">\n",
       "  <thead>\n",
       "    <tr style=\"text-align: right;\">\n",
       "      <th></th>\n",
       "      <th>Survived</th>\n",
       "    </tr>\n",
       "  </thead>\n",
       "  <tbody>\n",
       "    <tr>\n",
       "      <th>0</th>\n",
       "      <td>0</td>\n",
       "    </tr>\n",
       "    <tr>\n",
       "      <th>1</th>\n",
       "      <td>0</td>\n",
       "    </tr>\n",
       "    <tr>\n",
       "      <th>2</th>\n",
       "      <td>0</td>\n",
       "    </tr>\n",
       "  </tbody>\n",
       "</table>\n",
       "</div>"
      ],
      "text/plain": [
       "   Survived\n",
       "0         0\n",
       "1         0\n",
       "2         0"
      ]
     },
     "execution_count": 90,
     "metadata": {},
     "output_type": "execute_result"
    }
   ],
   "source": [
    "prediction.head(3)"
   ]
  },
  {
   "cell_type": "code",
   "execution_count": 91,
   "id": "509228ef",
   "metadata": {},
   "outputs": [],
   "source": [
    "prediction['PassengerId'] = PassengerId"
   ]
  },
  {
   "cell_type": "code",
   "execution_count": 92,
   "id": "bbdc5786",
   "metadata": {},
   "outputs": [
    {
     "data": {
      "text/html": [
       "<div>\n",
       "<style scoped>\n",
       "    .dataframe tbody tr th:only-of-type {\n",
       "        vertical-align: middle;\n",
       "    }\n",
       "\n",
       "    .dataframe tbody tr th {\n",
       "        vertical-align: top;\n",
       "    }\n",
       "\n",
       "    .dataframe thead th {\n",
       "        text-align: right;\n",
       "    }\n",
       "</style>\n",
       "<table border=\"1\" class=\"dataframe\">\n",
       "  <thead>\n",
       "    <tr style=\"text-align: right;\">\n",
       "      <th></th>\n",
       "      <th>Survived</th>\n",
       "      <th>PassengerId</th>\n",
       "    </tr>\n",
       "  </thead>\n",
       "  <tbody>\n",
       "    <tr>\n",
       "      <th>0</th>\n",
       "      <td>0</td>\n",
       "      <td>892</td>\n",
       "    </tr>\n",
       "    <tr>\n",
       "      <th>1</th>\n",
       "      <td>0</td>\n",
       "      <td>893</td>\n",
       "    </tr>\n",
       "    <tr>\n",
       "      <th>2</th>\n",
       "      <td>0</td>\n",
       "      <td>894</td>\n",
       "    </tr>\n",
       "  </tbody>\n",
       "</table>\n",
       "</div>"
      ],
      "text/plain": [
       "   Survived  PassengerId\n",
       "0         0          892\n",
       "1         0          893\n",
       "2         0          894"
      ]
     },
     "execution_count": 92,
     "metadata": {},
     "output_type": "execute_result"
    }
   ],
   "source": [
    "prediction.head(3)"
   ]
  },
  {
   "cell_type": "code",
   "execution_count": 93,
   "id": "9341ad68",
   "metadata": {},
   "outputs": [],
   "source": [
    "prediction_titels = ['PassengerId', 'Survived']"
   ]
  },
  {
   "cell_type": "code",
   "execution_count": 94,
   "id": "7de0aa62",
   "metadata": {},
   "outputs": [],
   "source": [
    "prediction = prediction.reindex(columns=prediction_titels)"
   ]
  },
  {
   "cell_type": "code",
   "execution_count": 95,
   "id": "ab846ca6",
   "metadata": {},
   "outputs": [
    {
     "data": {
      "text/html": [
       "<div>\n",
       "<style scoped>\n",
       "    .dataframe tbody tr th:only-of-type {\n",
       "        vertical-align: middle;\n",
       "    }\n",
       "\n",
       "    .dataframe tbody tr th {\n",
       "        vertical-align: top;\n",
       "    }\n",
       "\n",
       "    .dataframe thead th {\n",
       "        text-align: right;\n",
       "    }\n",
       "</style>\n",
       "<table border=\"1\" class=\"dataframe\">\n",
       "  <thead>\n",
       "    <tr style=\"text-align: right;\">\n",
       "      <th></th>\n",
       "      <th>PassengerId</th>\n",
       "      <th>Survived</th>\n",
       "    </tr>\n",
       "  </thead>\n",
       "  <tbody>\n",
       "    <tr>\n",
       "      <th>0</th>\n",
       "      <td>892</td>\n",
       "      <td>0</td>\n",
       "    </tr>\n",
       "    <tr>\n",
       "      <th>1</th>\n",
       "      <td>893</td>\n",
       "      <td>0</td>\n",
       "    </tr>\n",
       "    <tr>\n",
       "      <th>2</th>\n",
       "      <td>894</td>\n",
       "      <td>0</td>\n",
       "    </tr>\n",
       "  </tbody>\n",
       "</table>\n",
       "</div>"
      ],
      "text/plain": [
       "   PassengerId  Survived\n",
       "0          892         0\n",
       "1          893         0\n",
       "2          894         0"
      ]
     },
     "execution_count": 95,
     "metadata": {},
     "output_type": "execute_result"
    }
   ],
   "source": [
    "prediction.head(3)"
   ]
  },
  {
   "cell_type": "code",
   "execution_count": 96,
   "id": "a8c24cd0",
   "metadata": {},
   "outputs": [],
   "source": [
    "prediction.to_csv('Titanic_Prediction_Ensemble_SVC_RFC_GBC.csv', index=False)"
   ]
  }
 ],
 "metadata": {
  "kernelspec": {
   "display_name": "Python 3 (ipykernel)",
   "language": "python",
   "name": "python3"
  },
  "language_info": {
   "codemirror_mode": {
    "name": "ipython",
    "version": 3
   },
   "file_extension": ".py",
   "mimetype": "text/x-python",
   "name": "python",
   "nbconvert_exporter": "python",
   "pygments_lexer": "ipython3",
   "version": "3.7.12"
  }
 },
 "nbformat": 4,
 "nbformat_minor": 5
}
